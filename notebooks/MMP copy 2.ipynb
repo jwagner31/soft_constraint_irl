{
 "cells": [
  {
   "cell_type": "markdown",
   "metadata": {},
   "source": [
    "# Learning Soft Constraints using Apprenticeship Learning"
   ]
  },
  {
   "cell_type": "markdown",
   "metadata": {},
   "source": [
    "## General Setup and Imports"
   ]
  },
  {
   "cell_type": "markdown",
   "metadata": {},
   "source": [
    "Propagate code changes into notebook"
   ]
  },
  {
   "cell_type": "code",
   "execution_count": 309,
   "metadata": {},
   "outputs": [
    {
     "name": "stdout",
     "output_type": "stream",
     "text": [
      "The autoreload extension is already loaded. To reload it, use:\n",
      "  %reload_ext autoreload\n"
     ]
    }
   ],
   "source": [
    "%load_ext autoreload\n",
    "%autoreload 2"
   ]
  },
  {
   "cell_type": "code",
   "execution_count": 310,
   "metadata": {},
   "outputs": [],
   "source": [
    "%matplotlib inline"
   ]
  },
  {
   "cell_type": "code",
   "execution_count": 311,
   "metadata": {},
   "outputs": [],
   "source": [
    "import numpy as np\n",
    "import matplotlib.pyplot as plt\n",
    "from matplotlib.backends.backend_agg import FigureCanvas\n",
    "# allow us to re-use the framework from the src directory\n",
    "import sys, os\n",
    "sys.path.append(os.path.abspath(os.path.join('../')))\n",
    "from collections import namedtuple, defaultdict\n"
   ]
  },
  {
   "cell_type": "code",
   "execution_count": 312,
   "metadata": {},
   "outputs": [],
   "source": [
    "import max_ent.examples.grid_3_by_3 as G\n",
    "from max_ent.gridworld import Directions\n",
    "#%matplotlib notebook      commenting this out enables inline plotting\n",
    "np.random.seed(123)\n",
    "from max_ent.algorithms import mmp as MMP\n",
    "from max_ent.algorithms import mmp_helper as H"
   ]
  },
  {
   "cell_type": "markdown",
   "metadata": {},
   "source": [
    "## Gridworld Setup"
   ]
  },
  {
   "cell_type": "markdown",
   "metadata": {},
   "source": [
    "The following function sets up the gridworld environment. The gridworld is a 2D grid with a start and goal state. The fig object is also returned now as the last parameter, and if this is saved you can view the images of the world. "
   ]
  },
  {
   "cell_type": "code",
   "execution_count": 313,
   "metadata": {},
   "outputs": [],
   "source": [
    "Demonstration = namedtuple('Demonstration', ['trajectories', 'policy'])"
   ]
  },
  {
   "cell_type": "code",
   "execution_count": 314,
   "metadata": {},
   "outputs": [],
   "source": [
    "def create_world(title, blue, green, cs=[], ca=[], cc=[], start=0, goal=2, vmin=-50, vmax=10):\n",
    "    n_cfg = G.config_world(blue, green, cs, ca, cc, goal)\n",
    "    n = n_cfg.mdp\n",
    "\n",
    "    # Generate demonstrations and plot the world\n",
    "    demo = G.generate_trajectories(n.world, n.reward, n.start, n.terminal) \n",
    "    #test_demo = Demonstration(demo.trajectories[0:2], demo.policy)\n",
    "    vmin = -50\n",
    "    vmax = 10\n",
    "    G.plot_world(title, n, n_cfg.state_penalties,\n",
    "           n_cfg.action_penalties, n_cfg.color_penalties,\n",
    "           demo, n_cfg.blue, n_cfg.green, vmin=vmin, vmax=vmax)\n",
    "    return n, n_cfg, demo"
   ]
  },
  {
   "cell_type": "markdown",
   "metadata": {},
   "source": [
    "### Nominal World"
   ]
  },
  {
   "cell_type": "code",
   "execution_count": 315,
   "metadata": {},
   "outputs": [
    {
     "name": "stdout",
     "output_type": "stream",
     "text": [
      "{'vmin': -50, 'vmax': 10, 'cmap': <matplotlib.colors.LinearSegmentedColormap object at 0x115059150>}\n"
     ]
    },
    {
     "data": {
      "image/png": "[encoded data removed]",
      "text/plain": [
       "<Figure size 450x300 with 4 Axes>"
      ]
     },
     "metadata": {},
     "output_type": "display_data"
    }
   ],
   "source": [
    "blue = []  # blue states\n",
    "green = []  # green states\n",
    "\n",
    "n, n_cfg, demo_n = create_world('Nominal', blue, green)"
   ]
  },
  {
   "cell_type": "markdown",
   "metadata": {},
   "source": [
    "### Constrained World Creation"
   ]
  },
  {
   "cell_type": "code",
   "execution_count": 316,
   "metadata": {},
   "outputs": [
    {
     "name": "stdout",
     "output_type": "stream",
     "text": [
      "{'vmin': -50, 'vmax': 10, 'cmap': <matplotlib.colors.LinearSegmentedColormap object at 0x115059150>}\n"
     ]
    },
    {
     "data": {
      "image/png": "[encoded data removed]",
      "text/plain": [
       "<Figure size 450x300 with 4 Axes>"
      ]
     },
     "metadata": {},
     "output_type": "display_data"
    }
   ],
   "source": [
    "cs = [1, 4]  # constrained states\n",
    "ca = []  # constrained actions\n",
    "cc = []  # constrained colors\n",
    "\n",
    "c, c_cfg, demo_c = create_world('Constrained', blue, green, cs, ca, cc)"
   ]
  },
  {
   "cell_type": "markdown",
   "metadata": {},
   "source": [
    "## Algorithm"
   ]
  },
  {
   "cell_type": "markdown",
   "metadata": {},
   "source": [
    "### Algorithm Specific Imports"
   ]
  },
  {
   "cell_type": "code",
   "execution_count": 317,
   "metadata": {},
   "outputs": [],
   "source": [
    "import max_ent.optim as O\n",
    "from max_ent.algorithms import rl as RL\n",
    "from numpy.linalg import norm\n",
    "import math\n",
    "import max_ent.gridworld.trajectory as T\n",
    "import scipy.special "
   ]
  },
  {
   "cell_type": "markdown",
   "metadata": {},
   "source": [
    "### Parameters"
   ]
  },
  {
   "cell_type": "code",
   "execution_count": 318,
   "metadata": {},
   "outputs": [],
   "source": [
    "discount=0.9\n",
    "clip_grad_at=10\n",
    "lr=0.3\n",
    "max_iter=500\n",
    "burn_out=200\n",
    "eps=1e-4\n",
    "log=None\n",
    "initial_omega=None\n",
    "init = O.Constant(1e-6)\n",
    "optim = O.ExpSga(lr=lr, clip_grad_at=clip_grad_at)\n",
    "start = [0]\n",
    "burnout = 500"
   ]
  },
  {
   "cell_type": "code",
   "execution_count": 319,
   "metadata": {},
   "outputs": [],
   "source": [
    "nominal_rewards = n.reward\n",
    "world = c.world\n",
    "terminal = c.terminal\n",
    "trajectories = demo_c.trajectories\n",
    "p_transition = world.p_transition\n",
    "features = world.phi"
   ]
  },
  {
   "cell_type": "code",
   "execution_count": 320,
   "metadata": {},
   "outputs": [],
   "source": [
    "from collections import namedtuple, defaultdict\n",
    "Demonstration = namedtuple('Demonstration', ['trajectories', 'policy'])"
   ]
  },
  {
   "cell_type": "markdown",
   "metadata": {},
   "source": [
    "### Learning"
   ]
  },
  {
   "cell_type": "markdown",
   "metadata": {},
   "source": [
    "Order of actions:   left, right, up, down, up-left, up-right, down-left, down-right"
   ]
  },
  {
   "cell_type": "code",
   "execution_count": 324,
   "metadata": {},
   "outputs": [
    {
     "name": "stdout",
     "output_type": "stream",
     "text": [
      "fe_expert:  [0.106812   0.04978297 0.52046553 0.9644418  0.0752311  0.57176048\n",
      " 0.77954562 0.64983206 0.5979387  0.         1.39895257 1.86412842\n",
      " 1.05272927 4.31581026 0.         0.        ]\n",
      "Iteration:  0\n",
      "Iteration:  1\n",
      "margin:  3.4513986919760495\n"
     ]
    }
   ],
   "source": [
    "reward_final, sample_tjs, omega, v_final, fe_current = MMP.mmp(world, nominal_rewards, world.p_transition, world.phi,\n",
    "                      terminal, trajectories, optim, init, discount,\n",
    "                      max_iter=max_iter, burnout=200, eps=eps, log=log, initial_omega=initial_omega)"
   ]
  },
  {
   "cell_type": "code",
   "execution_count": 325,
   "metadata": {},
   "outputs": [
    {
     "data": {
      "text/plain": [
       "array([[-3.54802956, -2.15667586, -1.70140236, -2.5350725 ],\n",
       "       [-3.54802956, -2.15667586, -1.70140236, -2.5350725 ],\n",
       "       [ 0.        ,  0.        ,  0.        ,  0.        ],\n",
       "       [-3.54802956, -2.15667586, -1.70140236, -2.5350725 ],\n",
       "       [-3.54802956, -2.15667586, -1.70140236, -2.5350725 ],\n",
       "       [-3.54802956, -2.15667586, -1.70140236, -2.5350725 ],\n",
       "       [-3.54802956, -2.15667586, -1.70140236, -2.5350725 ],\n",
       "       [-3.54802956, -2.15667586, -1.70140236, -2.5350725 ],\n",
       "       [-3.54802956, -2.15667586, -1.70140236, -2.5350725 ]])"
      ]
     },
     "execution_count": 325,
     "metadata": {},
     "output_type": "execute_result"
    }
   ],
   "source": [
    "reward_final[:,:,2]"
   ]
  },
  {
   "cell_type": "code",
   "execution_count": 326,
   "metadata": {},
   "outputs": [
    {
     "data": {
      "text/plain": [
       "array([-1.64257323, -0.88474471,  0.24246781, -0.23374267, -0.54489484,\n",
       "        0.29194032,  0.11892126,  0.19011741,  0.28029837, -1.60828706,\n",
       "       -0.21693336,  0.23834014, -0.59533001, -2.1822103 ,  0.        ,\n",
       "        0.        ])"
      ]
     },
     "execution_count": 326,
     "metadata": {},
     "output_type": "execute_result"
    }
   ],
   "source": [
    "omega"
   ]
  },
  {
   "cell_type": "markdown",
   "metadata": {},
   "source": [
    "Expert Feature Expectation:"
   ]
  },
  {
   "cell_type": "code",
   "execution_count": 327,
   "metadata": {},
   "outputs": [
    {
     "data": {
      "text/plain": [
       "array([0.106812  , 0.04978297, 0.52046553, 0.9644418 , 0.0752311 ,\n",
       "       0.57176048, 0.77954562, 0.64983206, 0.5979387 , 0.        ,\n",
       "       1.39895257, 1.86412842, 1.05272927, 4.31581026, 0.        ,\n",
       "       0.        ])"
      ]
     },
     "execution_count": 327,
     "metadata": {},
     "output_type": "execute_result"
    }
   ],
   "source": [
    "H.fe_from_trajectories(features, trajectories, discount)"
   ]
  },
  {
   "cell_type": "markdown",
   "metadata": {},
   "source": [
    "First 9 are states 0-8, goal state is 2. Next 8 are actions: "
   ]
  },
  {
   "cell_type": "markdown",
   "metadata": {},
   "source": [
    "Learned Feature Expectation:"
   ]
  },
  {
   "cell_type": "code",
   "execution_count": 328,
   "metadata": {},
   "outputs": [],
   "source": [
    "q_new, v_new = H.value_iteration(world.p_transition, learned_params.reward, discount)"
   ]
  },
  {
   "cell_type": "markdown",
   "metadata": {},
   "source": [
    "Order of actions:   left, right, up, down, up-left, up-right, down-left, down-right"
   ]
  },
  {
   "cell_type": "markdown",
   "metadata": {},
   "source": [
    "Plotting function to visualize trajectories at any point in algorithm."
   ]
  },
  {
   "cell_type": "code",
   "execution_count": 341,
   "metadata": {},
   "outputs": [
    {
     "name": "stdout",
     "output_type": "stream",
     "text": [
      "{'vmin': -50, 'vmax': 10, 'cmap': <matplotlib.colors.LinearSegmentedColormap object at 0x115059150>}\n"
     ]
    },
    {
     "data": {
      "image/png": "[encoded data removed]",
      "text/plain": [
       "<Figure size 450x300 with 4 Axes>"
      ]
     },
     "metadata": {},
     "output_type": "display_data"
    }
   ],
   "source": [
    "learned_mdp = G.MDP(c.world, reward_final, c.terminal, c.start)\n",
    "demo_l = G.generate_trajectories(c.world, reward_final, c.start, c.terminal)\n",
    "p = G.plot_world('Learned Constrained', learned_mdp, c_cfg.state_penalties,\n",
    "           n_cfg.action_penalties, n_cfg.color_penalties, \n",
    "              demo_l, c_cfg.blue, c_cfg.green, vmin=-50, vmax=10)"
   ]
  },
  {
   "cell_type": "code",
   "execution_count": 342,
   "metadata": {},
   "outputs": [
    {
     "name": "stdout",
     "output_type": "stream",
     "text": [
      "{'vmin': -50, 'vmax': 10, 'cmap': <matplotlib.colors.LinearSegmentedColormap object at 0x115059150>}\n"
     ]
    },
    {
     "data": {
      "image/png": "[encoded data removed]",
      "text/plain": [
       "<Figure size 450x300 with 4 Axes>"
      ]
     },
     "metadata": {},
     "output_type": "display_data"
    }
   ],
   "source": [
    "n_cfg = G.config_world(blue, green, cs, ca, cc, 2)\n",
    "n = n_cfg.mdp\n",
    "\n",
    "\n",
    "G.plot_world('test', c, c_cfg.state_penalties,\n",
    "           n_cfg.action_penalties, n_cfg.color_penalties,\n",
    "           Demonstration(sample_tjs, None), n_cfg.blue, n_cfg.green, vmin=-50, vmax=10);"
   ]
  },
  {
   "cell_type": "code",
   "execution_count": 343,
   "metadata": {},
   "outputs": [
    {
     "name": "stdout",
     "output_type": "stream",
     "text": [
      "terminal [2]\n",
      "e_features [0.13 0.06 1.   1.11 0.11 1.01 1.   0.93 0.96 0.   2.1  2.24 1.97 6.31\n",
      " 0.   0.  ]\n",
      "MAE(best):  0.051978974063331\n",
      "Finished with MAE(best):  0.051978974063331\n",
      "omega:  [4.80743869e-07 6.35248787e-07 9.99986779e-07 4.36814842e-07\n",
      " 6.29151771e-07 1.85883303e-06 2.25096442e-06 4.37862351e-06\n",
      " 2.81726106e-06 1.00000000e-06 3.93917005e-06 2.09996040e-07\n",
      " 5.23675846e-06 4.33189954e-06 1.00000000e-06 1.00000000e-06]\n"
     ]
    }
   ],
   "source": [
    "learned_params = G.learn_constraints(n.reward, c.world, c.terminal, demo_c.trajectories) "
   ]
  },
  {
   "cell_type": "code",
   "execution_count": 339,
   "metadata": {},
   "outputs": [
    {
     "name": "stdout",
     "output_type": "stream",
     "text": [
      "{'vmin': -50, 'vmax': 10, 'cmap': <matplotlib.colors.LinearSegmentedColormap object at 0x115059150>}\n"
     ]
    },
    {
     "data": {
      "image/png": "[encoded data removed]",
      "text/plain": [
       "<Figure size 450x300 with 4 Axes>"
      ]
     },
     "metadata": {},
     "output_type": "display_data"
    }
   ],
   "source": [
    "learned_mdp = G.MDP(c.world, learned_params.reward, c.terminal, c.start)\n",
    "demo_l = G.generate_trajectories(c.world, learned_params.reward, c.start, c.terminal)\n",
    "p = G.plot_world('Learned Constrained', learned_mdp, learned_params.state_weights, \n",
    "              learned_params.action_weights, learned_params.color_weights, \n",
    "              demo_l, c_cfg.blue, c_cfg.green, vmin=-50, vmax=10)\n",
    "p.savefig('examplemmp.pdf')"
   ]
  },
  {
   "cell_type": "code",
   "execution_count": 25,
   "metadata": {},
   "outputs": [],
   "source": [
    "q_function, v_function = H.value_iteration(p_transition, learned_params.reward, discount)\n",
    "policy = H.tochastic_policy_from_q_value(world, q_function) #get policy from running RL with initial reward function\n",
    "policy_exec = H.stochastic_policy_adapter(policy)\n",
    "#policy_list.append(policy)"
   ]
  },
  {
   "cell_type": "code",
   "execution_count": 26,
   "metadata": {},
   "outputs": [],
   "source": [
    "sample_tjs = T.generate_trajectories(1000, world, policy_exec, initial, terminal)"
   ]
  },
  {
   "cell_type": "code",
   "execution_count": 28,
   "metadata": {},
   "outputs": [],
   "source": [
    "demo_joe = Demonstration(sample_tjs, policy)"
   ]
  },
  {
   "cell_type": "code",
   "execution_count": 340,
   "metadata": {},
   "outputs": [
    {
     "ename": "NameError",
     "evalue": "name 'demo_joe' is not defined",
     "output_type": "error",
     "traceback": [
      "\u001b[0;31m---------------------------------------------------------------------------\u001b[0m",
      "\u001b[0;31mNameError\u001b[0m                                 Traceback (most recent call last)",
      "\u001b[1;32m/Users/joewagner/Documents/GitHub/2024Spring/IRLResearch/soft_constraint_irl/notebooks/MMP copy 2.ipynb Cell 49\u001b[0m line \u001b[0;36m3\n\u001b[1;32m      <a href='vscode-notebook-cell:/Users/joewagner/Documents/GitHub/2024Spring/IRLResearch/soft_constraint_irl/notebooks/MMP%20copy%202.ipynb#X61sZmlsZQ%3D%3D?line=0'>1</a>\u001b[0m p \u001b[39m=\u001b[39m G\u001b[39m.\u001b[39mplot_world(\u001b[39m'\u001b[39m\u001b[39mLearned Constrained\u001b[39m\u001b[39m'\u001b[39m, learned_mdp, learned_params\u001b[39m.\u001b[39mstate_weights, \n\u001b[1;32m      <a href='vscode-notebook-cell:/Users/joewagner/Documents/GitHub/2024Spring/IRLResearch/soft_constraint_irl/notebooks/MMP%20copy%202.ipynb#X61sZmlsZQ%3D%3D?line=1'>2</a>\u001b[0m               learned_params\u001b[39m.\u001b[39maction_weights, learned_params\u001b[39m.\u001b[39mcolor_weights, \n\u001b[0;32m----> <a href='vscode-notebook-cell:/Users/joewagner/Documents/GitHub/2024Spring/IRLResearch/soft_constraint_irl/notebooks/MMP%20copy%202.ipynb#X61sZmlsZQ%3D%3D?line=2'>3</a>\u001b[0m               demo_joe, c_cfg\u001b[39m.\u001b[39mblue, c_cfg\u001b[39m.\u001b[39mgreen, vmin\u001b[39m=\u001b[39m\u001b[39m-\u001b[39m\u001b[39m50\u001b[39m, vmax\u001b[39m=\u001b[39m\u001b[39m10\u001b[39m)\n",
      "\u001b[0;31mNameError\u001b[0m: name 'demo_joe' is not defined"
     ]
    }
   ],
   "source": [
    "p = G.plot_world('Learned Constrained', learned_mdp, learned_params.state_weights, \n",
    "              learned_params.action_weights, learned_params.color_weights, \n",
    "              demo_joe, c_cfg.blue, c_cfg.green, vmin=-50, vmax=10)"
   ]
  },
  {
   "cell_type": "code",
   "execution_count": 35,
   "metadata": {},
   "outputs": [
    {
     "data": {
      "text/plain": [
       "array([ -5.6568544 , -14.57849459,   4.34314475,  -5.65685425,\n",
       "       -30.14219191,  -5.65685425,  -5.65685429,  -5.65685425,\n",
       "        -5.65685433])"
      ]
     },
     "execution_count": 35,
     "metadata": {},
     "output_type": "execute_result"
    }
   ],
   "source": [
    "learned_params.reward[3, 5,:]"
   ]
  },
  {
   "cell_type": "code",
   "execution_count": null,
   "metadata": {},
   "outputs": [],
   "source": []
  }
 ],
 "metadata": {
  "kernelspec": {
   "display_name": "base",
   "language": "python",
   "name": "python3"
  },
  "language_info": {
   "codemirror_mode": {
    "name": "ipython",
    "version": 3
   },
   "file_extension": ".py",
   "mimetype": "text/x-python",
   "name": "python",
   "nbconvert_exporter": "python",
   "pygments_lexer": "ipython3",
   "version": "3.11.7"
  }
 },
 "nbformat": 4,
 "nbformat_minor": 2
}
